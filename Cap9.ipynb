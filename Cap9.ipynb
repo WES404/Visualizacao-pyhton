{
 "cells": [
  {
   "cell_type": "markdown",
   "id": "accessory-relief",
   "metadata": {},
   "source": [
    "# PLOTLY"
   ]
  },
  {
   "cell_type": "code",
   "execution_count": null,
   "id": "unique-laundry",
   "metadata": {},
   "outputs": [],
   "source": [
    "import pandas as pd\n",
    "import cufflinks as cf\n",
    "import plotly.tools as tls"
   ]
  },
  {
   "cell_type": "code",
   "execution_count": null,
   "id": "radio-poker",
   "metadata": {},
   "outputs": [],
   "source": [
    "tls.set_credentials_file(username='nome', api_key=\"Chave\")"
   ]
  },
  {
   "cell_type": "markdown",
   "id": "incredible-round",
   "metadata": {},
   "source": [
    "### Criando gráfico"
   ]
  },
  {
   "cell_type": "code",
   "execution_count": 2,
   "id": "flying-basic",
   "metadata": {},
   "outputs": [],
   "source": [
    "layout = {\n",
    "    'title': 'Gráfico de um DataFrame',\n",
    "    'xaxis': {'title': 'eixo X'},\n",
    "    'yaxis': {'title': 'eixo Y'}\n",
    "}"
   ]
  },
  {
   "cell_type": "code",
   "execution_count": null,
   "id": "cheap-power",
   "metadata": {},
   "outputs": [],
   "source": [
    "df.iplot(filename='grafico_de_linha', layout=layout)"
   ]
  }
 ],
 "metadata": {
  "kernelspec": {
   "display_name": "Python 3",
   "language": "python",
   "name": "python3"
  },
  "language_info": {
   "codemirror_mode": {
    "name": "ipython",
    "version": 3
   },
   "file_extension": ".py",
   "mimetype": "text/x-python",
   "name": "python",
   "nbconvert_exporter": "python",
   "pygments_lexer": "ipython3",
   "version": "3.8.5"
  }
 },
 "nbformat": 4,
 "nbformat_minor": 5
}
