{
 "cells": [
  {
   "cell_type": "markdown",
   "id": "typical-silence",
   "metadata": {},
   "source": [
    "# Usando BeautifulSoup"
   ]
  },
  {
   "cell_type": "code",
   "execution_count": 1,
   "id": "veterinary-tablet",
   "metadata": {},
   "outputs": [],
   "source": [
    "from bs4 import BeautifulSoup"
   ]
  },
  {
   "cell_type": "code",
   "execution_count": 2,
   "id": "biblical-asbestos",
   "metadata": {},
   "outputs": [],
   "source": [
    "doc_html = '''\n",
    "<html><head><title>Pizza de Dados</title></head>\n",
    "<body>\n",
    "<section id=\"about\">\n",
    "         <div class=\"user-details\">\n",
    "  <p class='title'> Sobre o Pizza de Dados </p>\n",
    "  <p> O Pizza de Dados é uma iniciativa de 3 apaixonados por ciência de dados que viviam discutindo assuntos, links e conselhos de carreira. A vontade de aprender mais e compartilhar conhecimento era comum a todos e a ausência de um canal em português para tratar desses temas, levou à ideia de formar o pizza de dados.</p>\n",
    "\n",
    "  <p> O nome é uma espécie de “homenagem” ao repositório datascience.pizza, que se tornou em pouco tempo uma referência de material de estudos de ciência de dados em português.</p>\n",
    "\n",
    "  <p> Por ser algo feito de forma simples e leve por pessoas que normalmente se enfiam em muitos projetos ao mesmo tempo, o Pizza de Dados tem 3 regras básicas:</p>\n",
    "\n",
    "<ol>\n",
    "    <li>Só vamos fazer isso enquanto estiver divertido para todos;</li>\n",
    "    <li>Não vamos fazer por pressão (de datas, de publicação, de frequência…);</li>\n",
    "    <li>Nem todos os pizzaiolos originais devem estar em um episódio.</li>\n",
    "</ol>\n",
    "\n",
    "  <p> Esperamos que você se divirta, nos dê feedback e aprenda um pouquinho! </p>\n",
    "</div>\n",
    "\n",
    "      </section>\n",
    "    <div class=\"header-links\">\n",
    "        <a class=\"link\" href=\"#about\" data-scroll=\"\">Sobre</a>\n",
    "        <a class=\"link\" href=\"#pizzaiolos\" data-scroll=\"\">Quem somos</a>\n",
    "        <a class=\"link\" target=\"_blank\" href=\"https://medium.com/pizzadedados\">Revista</a>\n",
    "        <a class=\"link\" target=\"_blank\" href=\"https://podcast.pizzadedados.com/\">Episódios</a>\n",
    "        <a class=\"link\" href=\"#vemcomagente\" data-scroll=\"\">Assine</a>\n",
    "        <a class=\"link\" href=\"#vemcomagente\" data-scroll=\"\">Apoie</a>\n",
    "      </div>\n",
    "'''"
   ]
  },
  {
   "cell_type": "code",
   "execution_count": 3,
   "id": "vanilla-broadcasting",
   "metadata": {},
   "outputs": [],
   "source": [
    "sopa = BeautifulSoup(doc_html, 'html.parser')"
   ]
  },
  {
   "cell_type": "code",
   "execution_count": 4,
   "id": "packed-throat",
   "metadata": {},
   "outputs": [
    {
     "name": "stdout",
     "output_type": "stream",
     "text": [
      "<html>\n",
      " <head>\n",
      "  <title>\n",
      "   Pizza de Dados\n",
      "  </title>\n",
      " </head>\n",
      " <body>\n",
      "  <section id=\"about\">\n",
      "   <div class=\"user-details\">\n",
      "    <p class=\"title\">\n",
      "     Sobre o Pizza de Dados\n",
      "    </p>\n",
      "    <p>\n",
      "     O Pizza de Dados é uma iniciativa de 3 apaixonados por ciência de dados que viviam discutindo assuntos, links e conselhos de carreira. A vontade de aprender mais e compartilhar conhecimento era comum a to\n"
     ]
    }
   ],
   "source": [
    "print(sopa.prettify()[0:400])"
   ]
  },
  {
   "cell_type": "markdown",
   "id": "comprehensive-cookie",
   "metadata": {},
   "source": [
    "## Tags"
   ]
  },
  {
   "cell_type": "code",
   "execution_count": 11,
   "id": "geological-chuck",
   "metadata": {},
   "outputs": [
    {
     "data": {
      "text/plain": [
       "bs4.element.Tag"
      ]
     },
     "execution_count": 11,
     "metadata": {},
     "output_type": "execute_result"
    }
   ],
   "source": [
    "sopa = BeautifulSoup('<p class=\"title\"> Esperamos que você se divirta, nos dê feedback e aprenda um pouquinho! </p>', 'html.parser')\n",
    "\n",
    "tag = sopa.p\n",
    "type(tag)"
   ]
  },
  {
   "cell_type": "code",
   "execution_count": 6,
   "id": "common-secondary",
   "metadata": {},
   "outputs": [
    {
     "data": {
      "text/plain": [
       "'p'"
      ]
     },
     "execution_count": 6,
     "metadata": {},
     "output_type": "execute_result"
    }
   ],
   "source": [
    "tag.name"
   ]
  },
  {
   "cell_type": "code",
   "execution_count": 7,
   "id": "worse-mercy",
   "metadata": {},
   "outputs": [],
   "source": [
    "tag.name = 'podcast'"
   ]
  },
  {
   "cell_type": "code",
   "execution_count": 8,
   "id": "realistic-spare",
   "metadata": {},
   "outputs": [
    {
     "data": {
      "text/plain": [
       "'podcast'"
      ]
     },
     "execution_count": 8,
     "metadata": {},
     "output_type": "execute_result"
    }
   ],
   "source": [
    "tag.name"
   ]
  },
  {
   "cell_type": "markdown",
   "id": "rolled-crime",
   "metadata": {},
   "source": [
    "## Atributos"
   ]
  },
  {
   "cell_type": "code",
   "execution_count": 13,
   "id": "everyday-tuner",
   "metadata": {},
   "outputs": [
    {
     "data": {
      "text/plain": [
       "['title']"
      ]
     },
     "execution_count": 13,
     "metadata": {},
     "output_type": "execute_result"
    }
   ],
   "source": [
    "tag['class']"
   ]
  },
  {
   "cell_type": "code",
   "execution_count": 14,
   "id": "worthy-rally",
   "metadata": {},
   "outputs": [
    {
     "data": {
      "text/plain": [
       "{'class': ['title']}"
      ]
     },
     "execution_count": 14,
     "metadata": {},
     "output_type": "execute_result"
    }
   ],
   "source": [
    "tag.attrs"
   ]
  },
  {
   "cell_type": "code",
   "execution_count": 16,
   "id": "blind-letter",
   "metadata": {},
   "outputs": [
    {
     "data": {
      "text/plain": [
       "{'class': ['title'], 'id': 3}"
      ]
     },
     "execution_count": 16,
     "metadata": {},
     "output_type": "execute_result"
    }
   ],
   "source": [
    "tag['id'] = 3\n",
    "tag.attrs"
   ]
  },
  {
   "cell_type": "code",
   "execution_count": 17,
   "id": "spiritual-beaver",
   "metadata": {},
   "outputs": [
    {
     "data": {
      "text/plain": [
       "<p class=\"title\" id=\"3\"> Esperamos que você se divirta, nos dê feedback e aprenda um pouquinho! </p>"
      ]
     },
     "execution_count": 17,
     "metadata": {},
     "output_type": "execute_result"
    }
   ],
   "source": [
    "tag"
   ]
  },
  {
   "cell_type": "code",
   "execution_count": 18,
   "id": "pressing-mechanism",
   "metadata": {},
   "outputs": [
    {
     "data": {
      "text/plain": [
       "<title>Pizza de Dados</title>"
      ]
     },
     "execution_count": 18,
     "metadata": {},
     "output_type": "execute_result"
    }
   ],
   "source": [
    "sopa = BeautifulSoup(doc_html, 'html.parser')\n",
    "sopa.title"
   ]
  },
  {
   "cell_type": "code",
   "execution_count": 19,
   "id": "athletic-madison",
   "metadata": {},
   "outputs": [
    {
     "data": {
      "text/plain": [
       "<ol>\n",
       "<li>Só vamos fazer isso enquanto estiver divertido para todos;</li>\n",
       "<li>Não vamos fazer por pressão (de datas, de publicação, de frequência…);</li>\n",
       "<li>Nem todos os pizzaiolos originais devem estar em um episódio.</li>\n",
       "</ol>"
      ]
     },
     "execution_count": 19,
     "metadata": {},
     "output_type": "execute_result"
    }
   ],
   "source": [
    "sopa.ol"
   ]
  },
  {
   "cell_type": "markdown",
   "id": "complex-criminal",
   "metadata": {},
   "source": [
    "## Parseando Dados"
   ]
  },
  {
   "cell_type": "code",
   "execution_count": 20,
   "id": "wound-producer",
   "metadata": {},
   "outputs": [],
   "source": [
    "import re"
   ]
  },
  {
   "cell_type": "code",
   "execution_count": 21,
   "id": "assumed-clinton",
   "metadata": {},
   "outputs": [
    {
     "name": "stdout",
     "output_type": "stream",
     "text": [
      "\n",
      "Pizza de Dados\n",
      "\n",
      "\n",
      "\n",
      " Sobre o Pizza de Dados \n",
      " O Pizza de Dados é uma iniciativa de 3 apaixonados por ciência de dados que viviam discutindo assuntos, links e conselhos de carreira. A vontade de aprender mais e compartilhar conhecimento era comum a todos e a ausência de um canal em português para tratar desses temas, levou à ideia de formar o pizza de dados.\n",
      " O nome é uma espécie de “homenagem” ao repositório datascience.pizza, que se tornou em pouco tempo uma referência de material de estudos de ciência de dados em português.\n",
      " Por ser algo feito de forma simples e leve por pessoas que normalmente se enfiam em muitos projetos ao mesmo tempo, o Pizza de Dados tem 3 regras básicas:\n",
      "\n",
      "Só vamos fazer isso enquanto estiver divertido para todos;\n",
      "Não vamos fazer por pressão (de datas, de publicação, de frequência…);\n",
      "Nem todos os pizzaiolos originais devem estar em um episódio.\n",
      "\n",
      " Esperamos que você se divirta, nos dê feedback e aprenda um pouquinho! \n",
      "\n",
      "\n",
      "\n",
      "Sobre\n",
      "Quem somos\n",
      "Revista\n",
      "Episódios\n",
      "Assine\n",
      "Apoie\n",
      "\n",
      "\n"
     ]
    }
   ],
   "source": [
    "apenas_texto = sopa.get_text()\n",
    "print(apenas_texto)"
   ]
  },
  {
   "cell_type": "code",
   "execution_count": 22,
   "id": "adaptive-classics",
   "metadata": {},
   "outputs": [
    {
     "data": {
      "text/plain": [
       "[]"
      ]
     },
     "execution_count": 22,
     "metadata": {},
     "output_type": "execute_result"
    }
   ],
   "source": [
    "sopa.find_all(id='link 4')"
   ]
  },
  {
   "cell_type": "code",
   "execution_count": 23,
   "id": "young-terrain",
   "metadata": {},
   "outputs": [
    {
     "data": {
      "text/plain": [
       "[<p class=\"title\"> Sobre o Pizza de Dados </p>,\n",
       " <p> O Pizza de Dados é uma iniciativa de 3 apaixonados por ciência de dados que viviam discutindo assuntos, links e conselhos de carreira. A vontade de aprender mais e compartilhar conhecimento era comum a todos e a ausência de um canal em português para tratar desses temas, levou à ideia de formar o pizza de dados.</p>,\n",
       " <p> O nome é uma espécie de “homenagem” ao repositório datascience.pizza, que se tornou em pouco tempo uma referência de material de estudos de ciência de dados em português.</p>,\n",
       " <p> Por ser algo feito de forma simples e leve por pessoas que normalmente se enfiam em muitos projetos ao mesmo tempo, o Pizza de Dados tem 3 regras básicas:</p>,\n",
       " <ol>\n",
       " <li>Só vamos fazer isso enquanto estiver divertido para todos;</li>\n",
       " <li>Não vamos fazer por pressão (de datas, de publicação, de frequência…);</li>\n",
       " <li>Nem todos os pizzaiolos originais devem estar em um episódio.</li>\n",
       " </ol>,\n",
       " <p> Esperamos que você se divirta, nos dê feedback e aprenda um pouquinho! </p>]"
      ]
     },
     "execution_count": 23,
     "metadata": {},
     "output_type": "execute_result"
    }
   ],
   "source": [
    "sopa.find_all(['ol', 'p'])"
   ]
  },
  {
   "cell_type": "code",
   "execution_count": 24,
   "id": "authorized-tobago",
   "metadata": {},
   "outputs": [
    {
     "name": "stdout",
     "output_type": "stream",
     "text": [
      "<html><head><title>Pizza de Dados</title></head>\n",
      "<body>\n",
      "<section id=\"about\">\n",
      "<div class=\"user-details\">\n",
      "<p class=\"title\"> Sobre o Pizza de Dados </p>\n",
      "<p> O Pizza de Dados é uma iniciativa de 3 apaixonados por ciência de dados que viviam discutindo assuntos, links e conselhos de carreira. A vontade de aprender mais e compartilhar conhecimento era comum a todos e a ausência de um canal em português para tratar desses temas, levou à ideia de formar o pizza de dados.</p>\n",
      "<p> O nome é uma espécie de “homenagem” ao repositório datascience.pizza, que se tornou em pouco tempo uma referência de material de estudos de ciência de dados em português.</p>\n",
      "<p> Por ser algo feito de forma simples e leve por pessoas que normalmente se enfiam em muitos projetos ao mesmo tempo, o Pizza de Dados tem 3 regras básicas:</p>\n",
      "<ol>\n",
      "<li>Só vamos fazer isso enquanto estiver divertido para todos;</li>\n",
      "<li>Não vamos fazer por pressão (de datas, de publicação, de frequência…);</li>\n",
      "<li>Nem todos os pizzaiolos originais devem estar em um episódio.</li>\n",
      "</ol>\n",
      "<p> Esperamos que você se divirta, nos dê feedback e aprenda um pouquinho! </p>\n",
      "</div>\n",
      "</section>\n",
      "<div class=\"header-links\">\n",
      "<a class=\"link\" data-scroll=\"\" href=\"#about\">Sobre</a>\n",
      "<a class=\"link\" data-scroll=\"\" href=\"#pizzaiolos\">Quem somos</a>\n",
      "<a class=\"link\" href=\"https://medium.com/pizzadedados\" target=\"_blank\">Revista</a>\n",
      "<a class=\"link\" href=\"https://podcast.pizzadedados.com/\" target=\"_blank\">Episódios</a>\n",
      "<a class=\"link\" data-scroll=\"\" href=\"#vemcomagente\">Assine</a>\n",
      "<a class=\"link\" data-scroll=\"\" href=\"#vemcomagente\">Apoie</a>\n",
      "</div>\n",
      "</body></html>\n",
      "<title>Pizza de Dados</title>\n",
      "<ol>\n",
      "<li>Só vamos fazer isso enquanto estiver divertido para todos;</li>\n",
      "<li>Não vamos fazer por pressão (de datas, de publicação, de frequência…);</li>\n",
      "<li>Nem todos os pizzaiolos originais devem estar em um episódio.</li>\n",
      "</ol>\n",
      "<li>Só vamos fazer isso enquanto estiver divertido para todos;</li>\n",
      "<li>Não vamos fazer por pressão (de datas, de publicação, de frequência…);</li>\n",
      "<li>Nem todos os pizzaiolos originais devem estar em um episódio.</li>\n"
     ]
    }
   ],
   "source": [
    "l = re.compile('l')\n",
    "for tag in sopa.find_all(l):\n",
    "    print(tag)"
   ]
  },
  {
   "cell_type": "code",
   "execution_count": 25,
   "id": "green-shipping",
   "metadata": {},
   "outputs": [
    {
     "name": "stdout",
     "output_type": "stream",
     "text": [
      "#about\n",
      "#pizzaiolos\n",
      "https://medium.com/pizzadedados\n",
      "https://podcast.pizzadedados.com/\n",
      "#vemcomagente\n",
      "#vemcomagente\n"
     ]
    }
   ],
   "source": [
    "for link in sopa.find_all(\"a\"):\n",
    "    print(link.get('href'))"
   ]
  },
  {
   "cell_type": "code",
   "execution_count": 27,
   "id": "missing-prince",
   "metadata": {},
   "outputs": [
    {
     "data": {
      "text/plain": [
       "[' O Pizza de Dados é uma iniciativa de 3 apaixonados por ciência de dados que viviam discutindo assuntos, links e conselhos de carreira. A vontade de aprender mais e compartilhar conhecimento era comum a todos e a ausência de um canal em português para tratar desses temas, levou à ideia de formar o pizza de dados.',\n",
       " ' O nome é uma espécie de “homenagem” ao repositório datascience.pizza, que se tornou em pouco tempo uma referência de material de estudos de ciência de dados em português.']"
      ]
     },
     "execution_count": 27,
     "metadata": {},
     "output_type": "execute_result"
    }
   ],
   "source": [
    "sopa.find_all(string=re.compile(\"ciência\"))"
   ]
  },
  {
   "cell_type": "markdown",
   "id": "ordered-louisville",
   "metadata": {},
   "source": [
    "## Raspando dados"
   ]
  },
  {
   "cell_type": "code",
   "execution_count": 28,
   "id": "impressed-chain",
   "metadata": {},
   "outputs": [],
   "source": [
    "from requests import get"
   ]
  },
  {
   "cell_type": "code",
   "execution_count": 29,
   "id": "informational-mistake",
   "metadata": {},
   "outputs": [],
   "source": [
    "r = get(\"https://pizzadedados.com\")"
   ]
  },
  {
   "cell_type": "code",
   "execution_count": 31,
   "id": "limited-collar",
   "metadata": {},
   "outputs": [],
   "source": [
    "sopa = BeautifulSoup(r.content.decode(\"utf-8\"), 'html.parser')"
   ]
  },
  {
   "cell_type": "code",
   "execution_count": 32,
   "id": "played-runner",
   "metadata": {},
   "outputs": [
    {
     "name": "stdout",
     "output_type": "stream",
     "text": [
      "<!DOCTYPE html>\n",
      "<html lang=\"pt-br\">\n",
      " <head>\n",
      "  <meta charset=\"utf-8\"/>\n",
      "  <meta content=\"IE=edge\" http\n"
     ]
    }
   ],
   "source": [
    "print(sopa.prettify()[:100])"
   ]
  },
  {
   "cell_type": "code",
   "execution_count": 33,
   "id": "black-basis",
   "metadata": {},
   "outputs": [
    {
     "name": "stdout",
     "output_type": "stream",
     "text": [
      "/cdn-cgi/l/email-protection#0f7f6675756e6b6a6b6e6b607c4f68626e6663216c6062\n",
      "https://twitter.com/pizzadedados\n",
      "https://fb.com/pizzadedados\n",
      "https://youtube.com/c/pizzadedados\n",
      "https://www.instagram.com/pizzadedados\n",
      "https://github.com/pizzadedados\n",
      "#about\n",
      "#pizzaiolos\n",
      "https://medium.com/pizzadedados\n",
      "https://podcast.pizzadedados.com/\n",
      "#vemcomagente\n",
      "#vemcomagente\n",
      "/en\n",
      "#about\n",
      "https://guia.datascience.pizza/\n",
      "https://leportella.com\n",
      "https://jtemporal.com\n",
      "https://gusrabbit.com\n",
      "https://itunes.apple.com/us/podcast/pizza-de-dados/id1323137071\n",
      "https://open.spotify.com/show/5k0Ei0MSg5BuiHshr43aSg\n",
      "https://feeds.feedburner.com/PizzaDeDados\n",
      "https://apoia.se/pizzadedados\n",
      "https://databootcamp.com.br\n",
      "https://databootcamp.com.br\n",
      "https://github.com/nrandecker\n"
     ]
    }
   ],
   "source": [
    "for link in sopa.find_all(\"a\"):\n",
    "    print(link.get('href'))"
   ]
  },
  {
   "cell_type": "code",
   "execution_count": 34,
   "id": "promising-cruise",
   "metadata": {},
   "outputs": [
    {
     "name": "stdout",
     "output_type": "stream",
     "text": [
      "<a aria-label=\"Twitter\" href=\"https://twitter.com/pizzadedados\" target=\"_blank\"><i aria-hidden=\"true\" class=\"icon fa fa-twitter\"></i></a>\n",
      "<a aria-label=\"Facebook\" href=\"https://fb.com/pizzadedados\" target=\"_blank\"><i aria-hidden=\"true\" class=\"icon fa fa-facebook-square\"></i></a>\n",
      "<a aria-label=\"YouTube\" href=\"https://youtube.com/c/pizzadedados\" target=\"_blank\"><i aria-hidden=\"true\" class=\"icon fa fa-youtube-play\"></i></a>\n",
      "<a aria-label=\"Instagram\" href=\"https://www.instagram.com/pizzadedados\" target=\"_blank\"><i aria-hidden=\"true\" class=\"icon fa fa-instagram\"></i></a>\n",
      "<a aria-label=\"Github\" href=\"https://github.com/pizzadedados\" target=\"_blank\"><i aria-hidden=\"true\" class=\"icon fa fa-github-alt\"></i></a>\n",
      "<a class=\"link\" href=\"https://medium.com/pizzadedados\" target=\"_blank\">Revista</a>\n",
      "<a class=\"link\" href=\"https://podcast.pizzadedados.com/\" target=\"_blank\">Episódios</a>\n",
      "<a href=\"https://guia.datascience.pizza/\">datascience.pizza</a>\n",
      "<a class=\"project-link\" href=\"https://leportella.com\">Site</a>\n",
      "<a class=\"project-link\" href=\"https://jtemporal.com\">Site</a>\n",
      "<a class=\"project-link\" href=\"https://gusrabbit.com\">Site</a>\n",
      "<a class=\"project-link\" href=\"https://itunes.apple.com/us/podcast/pizza-de-dados/id1323137071\">\n",
      "<i class=\"icon fa fa-podcast\"></i>  iTunes\r\n",
      "        </a>\n",
      "<a class=\"project-link\" href=\"https://open.spotify.com/show/5k0Ei0MSg5BuiHshr43aSg\">\n",
      "<i class=\"icon fa fa-spotify\"></i>  Spotify\r\n",
      "        </a>\n",
      "<a class=\"project-link\" href=\"https://feeds.feedburner.com/PizzaDeDados\">\n",
      "<i class=\"icon fa fa-rss\"></i>  RSS\r\n",
      "        </a>\n",
      "<a class=\"project-link\" href=\"https://apoia.se/pizzadedados\">Para a campanha</a>\n",
      "<a href=\"https://databootcamp.com.br\">Data Bootcamp</a>\n",
      "<a href=\"https://databootcamp.com.br\"><img src=\"https://databootcamp.com.br/static/img/logo.png\" style=\"background: #1f2845;\"/></a>\n",
      "<a href=\"https://github.com/nrandecker\">Nathan Randecker</a>\n"
     ]
    }
   ],
   "source": [
    "parametros = {'href': re.compile('^http')}\n",
    "for link in sopa.find_all('a', attrs=parametros):\n",
    "    print(link)\n",
    "    "
   ]
  },
  {
   "cell_type": "code",
   "execution_count": 35,
   "id": "optical-transition",
   "metadata": {},
   "outputs": [
    {
     "name": "stdout",
     "output_type": "stream",
     "text": [
      "https://twitter.com/pizzadedados\n",
      "https://fb.com/pizzadedados\n",
      "https://youtube.com/c/pizzadedados\n",
      "https://www.instagram.com/pizzadedados\n",
      "https://github.com/pizzadedados\n",
      "https://medium.com/pizzadedados\n",
      "https://podcast.pizzadedados.com/\n",
      "https://guia.datascience.pizza/\n",
      "https://leportella.com\n",
      "https://jtemporal.com\n",
      "https://gusrabbit.com\n",
      "https://itunes.apple.com/us/podcast/pizza-de-dados/id1323137071\n",
      "https://open.spotify.com/show/5k0Ei0MSg5BuiHshr43aSg\n",
      "https://feeds.feedburner.com/PizzaDeDados\n",
      "https://apoia.se/pizzadedados\n",
      "https://databootcamp.com.br\n",
      "https://databootcamp.com.br\n",
      "https://github.com/nrandecker\n"
     ]
    }
   ],
   "source": [
    "file = open(\"pizza_Data.txt\", 'w')\n",
    "\n",
    "for link in sopa.find_all('a', attrs=parametros):\n",
    "    sopa_link = str(link.get('href'))\n",
    "    print(sopa_link)\n",
    "    file.write(sopa_link)\n",
    "    file.write(\"\\n\")\n",
    "    \n",
    "file.flush()\n",
    "file.close()"
   ]
  },
  {
   "cell_type": "code",
   "execution_count": null,
   "id": "related-blogger",
   "metadata": {},
   "outputs": [],
   "source": []
  }
 ],
 "metadata": {
  "kernelspec": {
   "display_name": "Python 3",
   "language": "python",
   "name": "python3"
  },
  "language_info": {
   "codemirror_mode": {
    "name": "ipython",
    "version": 3
   },
   "file_extension": ".py",
   "mimetype": "text/x-python",
   "name": "python",
   "nbconvert_exporter": "python",
   "pygments_lexer": "ipython3",
   "version": "3.8.5"
  }
 },
 "nbformat": 4,
 "nbformat_minor": 5
}
